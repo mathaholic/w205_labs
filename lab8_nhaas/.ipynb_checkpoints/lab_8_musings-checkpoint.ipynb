{
 "cells": [
  {
   "cell_type": "code",
   "execution_count": 1,
   "metadata": {
    "collapsed": true
   },
   "outputs": [],
   "source": [
    "import Levenshtein"
   ]
  },
  {
   "cell_type": "code",
   "execution_count": 5,
   "metadata": {
    "collapsed": true
   },
   "outputs": [],
   "source": [
    "def levenshteinDistance(s1, s2):\n",
    "    if len(s1) > len(s2):\n",
    "        s1, s2 = s2, s1\n",
    "\n",
    "    distances = range(len(s1) + 1)\n",
    "    for i2, c2 in enumerate(s2):\n",
    "        distances_ = [i2+1]\n",
    "        for i1, c1 in enumerate(s1):\n",
    "            if c1 == c2:\n",
    "                distances_.append(distances[i1])\n",
    "            else:\n",
    "                distances_.append(1 + min((distances[i1], distances[i1 + 1], distances_[-1])))\n",
    "        distances = distances_\n",
    "        print(distances)\n",
    "    return distances"
   ]
  },
  {
   "cell_type": "code",
   "execution_count": 6,
   "metadata": {
    "collapsed": false
   },
   "outputs": [
    {
     "name": "stdout",
     "output_type": "stream",
     "text": [
      "[1, 0, 1, 2, 3, 4, 5, 6, 7, 8]\n",
      "[2, 1, 0, 1, 2, 3, 4, 5, 6, 7]\n",
      "[3, 2, 1, 1, 2, 3, 4, 5, 6, 7]\n",
      "[4, 3, 2, 2, 1, 2, 3, 4, 5, 6]\n",
      "[5, 4, 3, 3, 2, 1, 2, 3, 4, 5]\n",
      "[6, 5, 4, 4, 3, 2, 1, 2, 3, 4]\n",
      "[7, 6, 5, 5, 4, 3, 2, 2, 2, 3]\n",
      "[8, 7, 6, 6, 5, 4, 3, 3, 3, 2]\n",
      "[9, 8, 7, 7, 6, 5, 4, 4, 4, 3]\n"
     ]
    },
    {
     "data": {
      "text/plain": [
       "[9, 8, 7, 7, 6, 5, 4, 4, 4, 3]"
      ]
     },
     "execution_count": 6,
     "metadata": {},
     "output_type": "execute_result"
    }
   ],
   "source": [
    "levenshteinDistance(\"gumbarrel\", 'gunbarell')"
   ]
  },
  {
   "cell_type": "code",
   "execution_count": 7,
   "metadata": {
    "collapsed": false
   },
   "outputs": [
    {
     "data": {
      "text/plain": [
       "3"
      ]
     },
     "execution_count": 7,
     "metadata": {},
     "output_type": "execute_result"
    }
   ],
   "source": [
    "Levenshtein.distance(\"gumbarrel\", 'gunbarell')"
   ]
  },
  {
   "cell_type": "code",
   "execution_count": 4,
   "metadata": {
    "collapsed": false
   },
   "outputs": [],
   "source": [
    "def myLevy(word1, word2):\n",
    "    d = [[0]*(len(word2)+1) for i in range(len(word1)+1)]\n",
    "    cost = [[0]*(len(word2)+1) for i in range(len(word1)+1)]\n",
    "    #print len(word1),len(word2)\n",
    "    for idx, val in enumerate(word2):\n",
    "        d[0][idx] = idx\n",
    "    for idx, val in enumerate(word1):\n",
    "        d[idx][0] = idx\n",
    "    d[0][len(word2)] = len(word2)\n",
    "    d[len(word1)][0] = len(word1)\n",
    "    #print d\n",
    "    \n",
    "    for c in range(len(word1)):\n",
    "        for l in range(len(word2)):\n",
    "            if word1[c] != word2[l]:\n",
    "                cost[c][l] = 1\n",
    "            else:\n",
    "                cost[c][l] = 0\n",
    "                \n",
    "    \n",
    "    for i in range(len(d)):\n",
    "        for j in range(len(d[i])):\n",
    "            if i == 0 or j == 0:\n",
    "                continue\n",
    "            val1 = d[i-1][j]+1\n",
    "            val2 = d[i][j-1]+1\n",
    "            val3 = d[i-1][j-1]+cost[i][j]\n",
    "            min_val = min(val1,val2,val3)\n",
    "            d[i][j] = min_val\n",
    "            \n",
    "    print(d)\n",
    "    print(\"myLevy distance: %s\" % (d[len(word1)][len(word2)]))"
   ]
  },
  {
   "cell_type": "code",
   "execution_count": 5,
   "metadata": {
    "collapsed": false
   },
   "outputs": [
    {
     "name": "stdout",
     "output_type": "stream",
     "text": [
      "[[0, 1, 2, 3, 4, 5, 6, 7, 8, 9], [1, 0, 1, 2, 3, 4, 5, 6, 7, 8], [2, 1, 1, 2, 3, 4, 5, 6, 7, 7], [3, 2, 2, 1, 2, 3, 4, 5, 6, 7], [4, 3, 3, 2, 1, 2, 3, 4, 5, 6], [5, 4, 4, 3, 2, 1, 2, 3, 4, 5], [6, 5, 5, 4, 3, 2, 2, 3, 4, 4], [7, 6, 6, 5, 4, 3, 2, 3, 4, 4], [8, 7, 7, 6, 5, 4, 3, 2, 3, 4], [9, 8, 7, 7, 6, 5, 4, 3, 2, 3]]\n",
      "myLevy distance: 3\n"
     ]
    }
   ],
   "source": [
    "myLevy(\"gumbarrel\", 'gunbarell')"
   ]
  },
  {
   "cell_type": "code",
   "execution_count": null,
   "metadata": {
    "collapsed": true
   },
   "outputs": [],
   "source": []
  }
 ],
 "metadata": {
  "kernelspec": {
   "display_name": "Python [Root]",
   "language": "python",
   "name": "Python [Root]"
  },
  "language_info": {
   "codemirror_mode": {
    "name": "ipython",
    "version": 3
   },
   "file_extension": ".py",
   "mimetype": "text/x-python",
   "name": "python",
   "nbconvert_exporter": "python",
   "pygments_lexer": "ipython3",
   "version": "3.5.2"
  }
 },
 "nbformat": 4,
 "nbformat_minor": 2
}
